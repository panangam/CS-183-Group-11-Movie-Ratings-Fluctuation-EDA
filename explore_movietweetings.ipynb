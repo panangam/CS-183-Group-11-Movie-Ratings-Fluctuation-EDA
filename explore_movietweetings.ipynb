{
 "cells": [
  {
   "cell_type": "code",
   "execution_count": 2,
   "metadata": {
    "collapsed": true
   },
   "outputs": [],
   "source": [
    "# import the libraries\n",
    "%matplotlib inline\n",
    "\n",
    "import pandas as pd\n",
    "import numpy as np\n",
    "import matplotlib.pyplot as plt\n",
    "import sklearn.metrics as m\n",
    "\n",
    "from datetime import datetime as dt"
   ]
  },
  {
   "cell_type": "code",
   "execution_count": 15,
   "metadata": {
    "collapsed": false,
    "scrolled": true
   },
   "outputs": [
    {
     "name": "stderr",
     "output_type": "stream",
     "text": [
      "C:\\Users\\Panangam\\Anaconda3\\envs\\python2\\lib\\site-packages\\ipykernel\\__main__.py:5: ParserWarning: Falling back to the 'python' engine because the 'c' engine does not support regex separators (separators > 1 char and different from '\\s+' are interpreted as regex); you can avoid this warning by specifying engine='python'.\n",
      "C:\\Users\\Panangam\\Anaconda3\\envs\\python2\\lib\\site-packages\\ipykernel\\__main__.py:8: ParserWarning: Falling back to the 'python' engine because the 'c' engine does not support regex separators (separators > 1 char and different from '\\s+' are interpreted as regex); you can avoid this warning by specifying engine='python'.\n"
     ]
    }
   ],
   "source": [
    "mt_ratings = pd.read_csv('MovieTweetings-master/latest/ratings.dat', \n",
    "                         delimiter='::', \n",
    "                         names=['user_id', 'movie_id', 'rating', 'timestamp'],\n",
    "                         index_col = 3,\n",
    "                         parse_dates=True)\n",
    "\n",
    "mt_ratings.index = pd.to_datetime(mt_ratings.index ,unit='s')\n",
    "mt_ratings = mt_ratings.sort_index()"
   ]
  },
  {
   "cell_type": "code",
   "execution_count": 23,
   "metadata": {
    "collapsed": false
   },
   "outputs": [
    {
     "data": {
      "text/html": [
       "<div>\n",
       "<table border=\"1\" class=\"dataframe\">\n",
       "  <thead>\n",
       "    <tr style=\"text-align: right;\">\n",
       "      <th></th>\n",
       "      <th>user_id</th>\n",
       "      <th>movie_id</th>\n",
       "      <th>rating</th>\n",
       "    </tr>\n",
       "    <tr>\n",
       "      <th>timestamp</th>\n",
       "      <th></th>\n",
       "      <th></th>\n",
       "      <th></th>\n",
       "    </tr>\n",
       "  </thead>\n",
       "  <tbody>\n",
       "    <tr>\n",
       "      <th>2013-02-28 14:38:27</th>\n",
       "      <td>36568</td>\n",
       "      <td>2171847</td>\n",
       "      <td>6</td>\n",
       "    </tr>\n",
       "    <tr>\n",
       "      <th>2013-02-28 14:43:44</th>\n",
       "      <td>32501</td>\n",
       "      <td>444778</td>\n",
       "      <td>8</td>\n",
       "    </tr>\n",
       "    <tr>\n",
       "      <th>2013-02-28 14:47:18</th>\n",
       "      <td>6227</td>\n",
       "      <td>1411238</td>\n",
       "      <td>6</td>\n",
       "    </tr>\n",
       "    <tr>\n",
       "      <th>2013-02-28 14:58:23</th>\n",
       "      <td>42816</td>\n",
       "      <td>1496422</td>\n",
       "      <td>7</td>\n",
       "    </tr>\n",
       "    <tr>\n",
       "      <th>2013-02-28 15:00:53</th>\n",
       "      <td>33145</td>\n",
       "      <td>118799</td>\n",
       "      <td>5</td>\n",
       "    </tr>\n",
       "    <tr>\n",
       "      <th>2013-02-28 15:04:39</th>\n",
       "      <td>33145</td>\n",
       "      <td>338013</td>\n",
       "      <td>4</td>\n",
       "    </tr>\n",
       "    <tr>\n",
       "      <th>2013-02-28 15:05:06</th>\n",
       "      <td>2545</td>\n",
       "      <td>1003052</td>\n",
       "      <td>8</td>\n",
       "    </tr>\n",
       "    <tr>\n",
       "      <th>2013-02-28 15:07:27</th>\n",
       "      <td>33145</td>\n",
       "      <td>64665</td>\n",
       "      <td>8</td>\n",
       "    </tr>\n",
       "    <tr>\n",
       "      <th>2013-02-28 15:08:24</th>\n",
       "      <td>40159</td>\n",
       "      <td>884328</td>\n",
       "      <td>7</td>\n",
       "    </tr>\n",
       "    <tr>\n",
       "      <th>2013-02-28 15:09:49</th>\n",
       "      <td>19280</td>\n",
       "      <td>1559547</td>\n",
       "      <td>9</td>\n",
       "    </tr>\n",
       "  </tbody>\n",
       "</table>\n",
       "</div>"
      ],
      "text/plain": [
       "                     user_id  movie_id  rating\n",
       "timestamp                                     \n",
       "2013-02-28 14:38:27    36568   2171847       6\n",
       "2013-02-28 14:43:44    32501    444778       8\n",
       "2013-02-28 14:47:18     6227   1411238       6\n",
       "2013-02-28 14:58:23    42816   1496422       7\n",
       "2013-02-28 15:00:53    33145    118799       5\n",
       "2013-02-28 15:04:39    33145    338013       4\n",
       "2013-02-28 15:05:06     2545   1003052       8\n",
       "2013-02-28 15:07:27    33145     64665       8\n",
       "2013-02-28 15:08:24    40159    884328       7\n",
       "2013-02-28 15:09:49    19280   1559547       9"
      ]
     },
     "execution_count": 23,
     "metadata": {},
     "output_type": "execute_result"
    }
   ],
   "source": [
    "mt_ratings.head(10)"
   ]
  },
  {
   "cell_type": "code",
   "execution_count": 103,
   "metadata": {
    "collapsed": false
   },
   "outputs": [
    {
     "name": "stderr",
     "output_type": "stream",
     "text": [
      "C:\\Users\\Panangam\\Anaconda3\\envs\\python2\\lib\\site-packages\\ipykernel\\__main__.py:4: ParserWarning: Falling back to the 'python' engine because the 'c' engine does not support regex separators (separators > 1 char and different from '\\s+' are interpreted as regex); you can avoid this warning by specifying engine='python'.\n"
     ]
    }
   ],
   "source": [
    "mt_movies = pd.read_csv('MovieTweetings-master/latest/movies.dat', \n",
    "                        delimiter='::', \n",
    "                        names=['movie_id', 'title', 'genre_str'],\n",
    "                        index_col=0)"
   ]
  },
  {
   "cell_type": "code",
   "execution_count": 104,
   "metadata": {
    "collapsed": false
   },
   "outputs": [
    {
     "data": {
      "text/html": [
       "<div>\n",
       "<table border=\"1\" class=\"dataframe\">\n",
       "  <thead>\n",
       "    <tr style=\"text-align: right;\">\n",
       "      <th></th>\n",
       "      <th>title</th>\n",
       "      <th>genre_str</th>\n",
       "    </tr>\n",
       "    <tr>\n",
       "      <th>movie_id</th>\n",
       "      <th></th>\n",
       "      <th></th>\n",
       "    </tr>\n",
       "  </thead>\n",
       "  <tbody>\n",
       "    <tr>\n",
       "      <th>8</th>\n",
       "      <td>Edison Kinetoscopic Record of a Sneeze (1894)</td>\n",
       "      <td>Documentary|Short</td>\n",
       "    </tr>\n",
       "    <tr>\n",
       "      <th>10</th>\n",
       "      <td>La sortie des usines Lumière (1895)</td>\n",
       "      <td>Documentary|Short</td>\n",
       "    </tr>\n",
       "    <tr>\n",
       "      <th>12</th>\n",
       "      <td>The Arrival of a Train (1896)</td>\n",
       "      <td>Documentary|Short</td>\n",
       "    </tr>\n",
       "    <tr>\n",
       "      <th>25</th>\n",
       "      <td>The Oxford and Cambridge University Boat Race ...</td>\n",
       "      <td>NaN</td>\n",
       "    </tr>\n",
       "    <tr>\n",
       "      <th>91</th>\n",
       "      <td>Le manoir du diable (1896)</td>\n",
       "      <td>Short|Horror</td>\n",
       "    </tr>\n",
       "    <tr>\n",
       "      <th>417</th>\n",
       "      <td>Le voyage dans la lune (1902)</td>\n",
       "      <td>Short|Adventure|Fantasy</td>\n",
       "    </tr>\n",
       "    <tr>\n",
       "      <th>439</th>\n",
       "      <td>The Great Train Robbery (1903)</td>\n",
       "      <td>Short|Action|Crime</td>\n",
       "    </tr>\n",
       "    <tr>\n",
       "      <th>443</th>\n",
       "      <td>Hiawatha, the Messiah of the Ojibway (1903)</td>\n",
       "      <td>NaN</td>\n",
       "    </tr>\n",
       "    <tr>\n",
       "      <th>628</th>\n",
       "      <td>The Adventures of Dollie (1908)</td>\n",
       "      <td>Action|Short</td>\n",
       "    </tr>\n",
       "    <tr>\n",
       "      <th>833</th>\n",
       "      <td>The Country Doctor (1909)</td>\n",
       "      <td>Short|Drama</td>\n",
       "    </tr>\n",
       "  </tbody>\n",
       "</table>\n",
       "</div>"
      ],
      "text/plain": [
       "                                                      title  \\\n",
       "movie_id                                                      \n",
       "8             Edison Kinetoscopic Record of a Sneeze (1894)   \n",
       "10                      La sortie des usines Lumière (1895)   \n",
       "12                            The Arrival of a Train (1896)   \n",
       "25        The Oxford and Cambridge University Boat Race ...   \n",
       "91                               Le manoir du diable (1896)   \n",
       "417                           Le voyage dans la lune (1902)   \n",
       "439                          The Great Train Robbery (1903)   \n",
       "443             Hiawatha, the Messiah of the Ojibway (1903)   \n",
       "628                         The Adventures of Dollie (1908)   \n",
       "833                               The Country Doctor (1909)   \n",
       "\n",
       "                        genre_str  \n",
       "movie_id                           \n",
       "8               Documentary|Short  \n",
       "10              Documentary|Short  \n",
       "12              Documentary|Short  \n",
       "25                            NaN  \n",
       "91                   Short|Horror  \n",
       "417       Short|Adventure|Fantasy  \n",
       "439            Short|Action|Crime  \n",
       "443                           NaN  \n",
       "628                  Action|Short  \n",
       "833                   Short|Drama  "
      ]
     },
     "execution_count": 104,
     "metadata": {},
     "output_type": "execute_result"
    }
   ],
   "source": [
    "mt_movies.head(10)\n",
    "# movie_id is IMDB ID"
   ]
  },
  {
   "cell_type": "code",
   "execution_count": 105,
   "metadata": {
    "collapsed": false
   },
   "outputs": [],
   "source": [
    "# load boxofficemojo\n",
    "boxoffice = pd.read_csv('BoxOfficeMojo-Data-Sheet1-3-6-2018-csv-refined.csv', \n",
    "                       delimiter=',',\n",
    "                       parse_dates=[7,8])\n",
    "\n",
    "# parse numeric columns\n",
    "cols_to_parse_num = ['total_gross', 'total_theaters', 'opening_gross', 'opening_theaters']\n",
    "for col in cols_to_parse_num:\n",
    "    boxoffice[col] = boxoffice[col].str.replace('$','')\n",
    "    boxoffice[col] = boxoffice[col].str.replace(',','')\n",
    "    boxoffice[col] = pd.to_numeric(boxoffice[col])\n",
    "    \n",
    "# choose only data with proper open_dates\n",
    "boxoffice = boxoffice[(boxoffice.open_date.str.len() == 10) & (boxoffice.close_date.str.len() == 10)]\n",
    "\n",
    "for col in ['open_date', 'close_date']:\n",
    "    boxoffice[col] = pd.to_datetime(boxoffice[col])"
   ]
  },
  {
   "cell_type": "code",
   "execution_count": 106,
   "metadata": {
    "collapsed": false
   },
   "outputs": [
    {
     "data": {
      "text/html": [
       "<div>\n",
       "<table border=\"1\" class=\"dataframe\">\n",
       "  <thead>\n",
       "    <tr style=\"text-align: right;\">\n",
       "      <th></th>\n",
       "      <th>rank_by_year</th>\n",
       "      <th>title</th>\n",
       "      <th>studio</th>\n",
       "      <th>total_gross</th>\n",
       "      <th>total_theaters</th>\n",
       "      <th>opening_gross</th>\n",
       "      <th>opening_theaters</th>\n",
       "      <th>open_date</th>\n",
       "      <th>close_date</th>\n",
       "    </tr>\n",
       "  </thead>\n",
       "  <tbody>\n",
       "    <tr>\n",
       "      <th>0</th>\n",
       "      <td>1.0</td>\n",
       "      <td>Star Wars: The Force Awakens</td>\n",
       "      <td>BV</td>\n",
       "      <td>936662225.0</td>\n",
       "      <td>4134.0</td>\n",
       "      <td>247966675.0</td>\n",
       "      <td>4134.0</td>\n",
       "      <td>2015-12-18</td>\n",
       "      <td>2016-06-02</td>\n",
       "    </tr>\n",
       "    <tr>\n",
       "      <th>1</th>\n",
       "      <td>2.0</td>\n",
       "      <td>Jurassic World</td>\n",
       "      <td>Uni.</td>\n",
       "      <td>652270625.0</td>\n",
       "      <td>4291.0</td>\n",
       "      <td>208806270.0</td>\n",
       "      <td>4274.0</td>\n",
       "      <td>2015-06-12</td>\n",
       "      <td>2015-11-19</td>\n",
       "    </tr>\n",
       "    <tr>\n",
       "      <th>2</th>\n",
       "      <td>3.0</td>\n",
       "      <td>Avengers: Age of Ultron</td>\n",
       "      <td>BV</td>\n",
       "      <td>459005868.0</td>\n",
       "      <td>4276.0</td>\n",
       "      <td>191271109.0</td>\n",
       "      <td>4276.0</td>\n",
       "      <td>2015-05-01</td>\n",
       "      <td>2015-10-08</td>\n",
       "    </tr>\n",
       "    <tr>\n",
       "      <th>3</th>\n",
       "      <td>4.0</td>\n",
       "      <td>Inside Out</td>\n",
       "      <td>BV</td>\n",
       "      <td>356461711.0</td>\n",
       "      <td>4158.0</td>\n",
       "      <td>90440272.0</td>\n",
       "      <td>3946.0</td>\n",
       "      <td>2015-06-19</td>\n",
       "      <td>2015-12-10</td>\n",
       "    </tr>\n",
       "    <tr>\n",
       "      <th>4</th>\n",
       "      <td>5.0</td>\n",
       "      <td>Furious 7</td>\n",
       "      <td>Uni.</td>\n",
       "      <td>353007020.0</td>\n",
       "      <td>4022.0</td>\n",
       "      <td>147187040.0</td>\n",
       "      <td>4004.0</td>\n",
       "      <td>2015-04-03</td>\n",
       "      <td>2015-07-24</td>\n",
       "    </tr>\n",
       "    <tr>\n",
       "      <th>5</th>\n",
       "      <td>6.0</td>\n",
       "      <td>Minions</td>\n",
       "      <td>Uni.</td>\n",
       "      <td>336045770.0</td>\n",
       "      <td>4311.0</td>\n",
       "      <td>115718405.0</td>\n",
       "      <td>4301.0</td>\n",
       "      <td>2015-07-10</td>\n",
       "      <td>2015-12-17</td>\n",
       "    </tr>\n",
       "    <tr>\n",
       "      <th>6</th>\n",
       "      <td>7.0</td>\n",
       "      <td>The Hunger Games: Mockingjay - Part 2</td>\n",
       "      <td>LGF</td>\n",
       "      <td>281723902.0</td>\n",
       "      <td>4175.0</td>\n",
       "      <td>102665981.0</td>\n",
       "      <td>4175.0</td>\n",
       "      <td>2015-11-20</td>\n",
       "      <td>2016-02-25</td>\n",
       "    </tr>\n",
       "    <tr>\n",
       "      <th>7</th>\n",
       "      <td>8.0</td>\n",
       "      <td>The Martian</td>\n",
       "      <td>Fox</td>\n",
       "      <td>228433663.0</td>\n",
       "      <td>3854.0</td>\n",
       "      <td>54308575.0</td>\n",
       "      <td>3831.0</td>\n",
       "      <td>2015-10-02</td>\n",
       "      <td>2016-03-17</td>\n",
       "    </tr>\n",
       "    <tr>\n",
       "      <th>8</th>\n",
       "      <td>9.0</td>\n",
       "      <td>Cinderella (2015)</td>\n",
       "      <td>BV</td>\n",
       "      <td>201151353.0</td>\n",
       "      <td>3848.0</td>\n",
       "      <td>67877361.0</td>\n",
       "      <td>3845.0</td>\n",
       "      <td>2015-03-13</td>\n",
       "      <td>2015-09-17</td>\n",
       "    </tr>\n",
       "    <tr>\n",
       "      <th>9</th>\n",
       "      <td>10.0</td>\n",
       "      <td>Spectre</td>\n",
       "      <td>Sony</td>\n",
       "      <td>200074609.0</td>\n",
       "      <td>3929.0</td>\n",
       "      <td>70403148.0</td>\n",
       "      <td>3929.0</td>\n",
       "      <td>2015-11-06</td>\n",
       "      <td>2016-04-07</td>\n",
       "    </tr>\n",
       "  </tbody>\n",
       "</table>\n",
       "</div>"
      ],
      "text/plain": [
       "   rank_by_year                                  title studio  total_gross  \\\n",
       "0           1.0           Star Wars: The Force Awakens     BV  936662225.0   \n",
       "1           2.0                         Jurassic World   Uni.  652270625.0   \n",
       "2           3.0                Avengers: Age of Ultron     BV  459005868.0   \n",
       "3           4.0                             Inside Out     BV  356461711.0   \n",
       "4           5.0                              Furious 7   Uni.  353007020.0   \n",
       "5           6.0                                Minions   Uni.  336045770.0   \n",
       "6           7.0  The Hunger Games: Mockingjay - Part 2    LGF  281723902.0   \n",
       "7           8.0                            The Martian    Fox  228433663.0   \n",
       "8           9.0                      Cinderella (2015)     BV  201151353.0   \n",
       "9          10.0                                Spectre   Sony  200074609.0   \n",
       "\n",
       "   total_theaters  opening_gross  opening_theaters  open_date close_date  \n",
       "0          4134.0    247966675.0            4134.0 2015-12-18 2016-06-02  \n",
       "1          4291.0    208806270.0            4274.0 2015-06-12 2015-11-19  \n",
       "2          4276.0    191271109.0            4276.0 2015-05-01 2015-10-08  \n",
       "3          4158.0     90440272.0            3946.0 2015-06-19 2015-12-10  \n",
       "4          4022.0    147187040.0            4004.0 2015-04-03 2015-07-24  \n",
       "5          4311.0    115718405.0            4301.0 2015-07-10 2015-12-17  \n",
       "6          4175.0    102665981.0            4175.0 2015-11-20 2016-02-25  \n",
       "7          3854.0     54308575.0            3831.0 2015-10-02 2016-03-17  \n",
       "8          3848.0     67877361.0            3845.0 2015-03-13 2015-09-17  \n",
       "9          3929.0     70403148.0            3929.0 2015-11-06 2016-04-07  "
      ]
     },
     "execution_count": 106,
     "metadata": {},
     "output_type": "execute_result"
    }
   ],
   "source": [
    "boxoffice.head(10)"
   ]
  },
  {
   "cell_type": "code",
   "execution_count": 4,
   "metadata": {
    "collapsed": false
   },
   "outputs": [
    {
     "name": "stdout",
     "output_type": "stream",
     "text": [
      "Movies count: 30395\n",
      "Ratings count: 686954\n",
      "Most rated: Gravity (2013) (rated 3018 times))\n",
      "\n",
      "Movies with >500 ratings: 249\n",
      "Total ratings count: 244281\n"
     ]
    }
   ],
   "source": [
    "# Some description of data set\n",
    "print 'Movies count: %d' % len(mt_movies)\n",
    "print 'Ratings count: %d' % len(mt_ratings)\n",
    "\n",
    "most_rated_id = mt_ratings.groupby('movie_id').rating.count().argmax()\n",
    "most_rated = mt_movies.query('movie_id==@most_rated_id').iloc[0].title\n",
    "print 'Most rated: %s (rated %d times))' % (most_rated, mt_ratings.groupby('movie_id').rating.count().max())\n",
    "movie_rating_freq = mt_ratings.groupby('movie_id').rating.count()\n",
    "\n",
    "print \n",
    "\n",
    "print 'Movies with >500 ratings: %d' % movie_rating_freq[movie_rating_freq > 500].count()\n",
    "print 'Total ratings count: %d' % movie_rating_freq[movie_rating_freq > 500].sum()"
   ]
  },
  {
   "cell_type": "code",
   "execution_count": 5,
   "metadata": {
    "collapsed": false,
    "scrolled": false
   },
   "outputs": [
    {
     "data": {
      "text/plain": [
       "<matplotlib.axes._subplots.AxesSubplot at 0x9e0dda0>"
      ]
     },
     "execution_count": 5,
     "metadata": {},
     "output_type": "execute_result"
    },
    {
     "data": {
      "image/png": "[encoded data removed]",
      "text/plain": [
       "<matplotlib.figure.Figure at 0x9e0e5c0>"
      ]
     },
     "metadata": {},
     "output_type": "display_data"
    }
   ],
   "source": [
    "movie_rating_freq.hist(bins=50)"
   ]
  },
  {
   "cell_type": "code",
   "execution_count": 6,
   "metadata": {
    "collapsed": false
   },
   "outputs": [
    {
     "name": "stdout",
     "output_type": "stream",
     "text": [
      "Movies with >500 ratings: 249\n",
      "Total ratings count: 244281\n"
     ]
    },
    {
     "data": {
      "text/plain": [
       "<matplotlib.axes._subplots.AxesSubplot at 0x9e529e8>"
      ]
     },
     "execution_count": 6,
     "metadata": {},
     "output_type": "execute_result"
    },
    {
     "data": {
      "image/png": "[encoded data removed]",
      "text/plain": [
       "<matplotlib.figure.Figure at 0x9e0db38>"
      ]
     },
     "metadata": {},
     "output_type": "display_data"
    }
   ],
   "source": [
    "min_rating_count = 500\n",
    "\n",
    "movie_rating_freq = mt_ratings.groupby('movie_id').rating.count()\n",
    "selected_movies = movie_rating_freq[movie_rating_freq > 500]\n",
    "print 'Movies with >%d ratings: %d' % (min_rating_count, selected_movies.count())\n",
    "print 'Total ratings count: %d' % selected_movies.sum()\n",
    "selected_movies.hist(bins=50)"
   ]
  },
  {
   "cell_type": "code",
   "execution_count": 8,
   "metadata": {
    "collapsed": false
   },
   "outputs": [
    {
     "data": {
      "text/plain": [
       "<matplotlib.lines.Line2D at 0xc182400>"
      ]
     },
     "execution_count": 8,
     "metadata": {},
     "output_type": "execute_result"
    },
    {
     "data": {
      "image/png": "[encoded data removed]",
      "text/plain": [
       "<matplotlib.figure.Figure at 0xc9dd278>"
      ]
     },
     "metadata": {},
     "output_type": "display_data"
    }
   ],
   "source": [
    "# Test rolling stats on Gravity (2013)\n",
    "test_movie_id = 1454468\n",
    "test_ratings = mt_ratings.query('movie_id==@test_movie_id')['rating']\n",
    "test_ratings.rolling('30d').mean().plot()\n",
    "test_ratings.rolling('30d').std().plot()\n",
    "plt.legend(['mean', 'std'])\n",
    "plt.axvline(x=pd.Timestamp(year=2013, month=10, day=4), color='red')\n",
    "plt.axvline(x=pd.Timestamp(year=2014, month=5, day=8), color='red')"
   ]
  },
  {
   "cell_type": "code",
   "execution_count": 50,
   "metadata": {
    "collapsed": false
   },
   "outputs": [
    {
     "data": {
      "text/plain": [
       "<matplotlib.axes._subplots.AxesSubplot at 0xf1d9668>"
      ]
     },
     "execution_count": 50,
     "metadata": {},
     "output_type": "execute_result"
    },
    {
     "data": {
      "image/png": "[encoded data removed]",
      "text/plain": [
       "<matplotlib.figure.Figure at 0xf460f28>"
      ]
     },
     "metadata": {},
     "output_type": "display_data"
    }
   ],
   "source": [
    "\n",
    "test_ratings.rolling('30d') \\\n",
    "    .mean() \\\n",
    "    .rolling('30d') \\\n",
    "    .std() \\\n",
    "    [pd.Timestamp(year=2013, month=10, day=4) : pd.Timestamp(year=2014, month=5, day=8)] \\\n",
    "    .plot()\n",
    "\n",
    "test_ratings.rolling('30d') \\\n",
    "    .std() \\\n",
    "    [pd.Timestamp(year=2013, month=10, day=4) : pd.Timestamp(year=2014, month=5, day=8)] \\\n",
    "    .plot()"
   ]
  },
  {
   "cell_type": "code",
   "execution_count": 8,
   "metadata": {
    "collapsed": false
   },
   "outputs": [
    {
     "ename": "IndentationError",
     "evalue": "expected an indented block (<ipython-input-8-dfec2bff56f6>, line 2)",
     "output_type": "error",
     "traceback": [
      "\u001b[1;36m  File \u001b[1;32m\"<ipython-input-8-dfec2bff56f6>\"\u001b[1;36m, line \u001b[1;32m2\u001b[0m\n\u001b[1;33m    \u001b[0m\n\u001b[1;37m    ^\u001b[0m\n\u001b[1;31mIndentationError\u001b[0m\u001b[1;31m:\u001b[0m expected an indented block\n"
     ]
    }
   ],
   "source": [
    "def step_rolling_count(series, window, step):\n",
    "    "
   ]
  },
  {
   "cell_type": "code",
   "execution_count": null,
   "metadata": {
    "collapsed": false
   },
   "outputs": [],
   "source": [
    "sample_df.rolling(3, center=True).count()"
   ]
  },
  {
   "cell_type": "code",
   "execution_count": 225,
   "metadata": {
    "collapsed": false
   },
   "outputs": [
    {
     "name": "stdout",
     "output_type": "stream",
     "text": [
      "Help on class DateOffset in module pandas.tseries.offsets:\n",
      "\n",
      "class DateOffset(__builtin__.object)\n",
      " |  Standard kind of date increment used for a date range.\n",
      " |  \n",
      " |  Works exactly like relativedelta in terms of the keyword args you\n",
      " |  pass in, use of the keyword n is discouraged-- you would be better\n",
      " |  off specifying n in the keywords you use, but regardless it is\n",
      " |  there for you. n is needed for DateOffset subclasses.\n",
      " |  \n",
      " |  DateOffets work as follows.  Each offset specify a set of dates\n",
      " |  that conform to the DateOffset.  For example, Bday defines this\n",
      " |  set to be the set of dates that are weekdays (M-F).  To test if a\n",
      " |  date is in the set of a DateOffset dateOffset we can use the\n",
      " |  onOffset method: dateOffset.onOffset(date).\n",
      " |  \n",
      " |  If a date is not on a valid date, the rollback and rollforward\n",
      " |  methods can be used to roll the date to the nearest valid date\n",
      " |  before/after the date.\n",
      " |  \n",
      " |  DateOffsets can be created to move dates forward a given number of\n",
      " |  valid dates.  For example, Bday(2) can be added to a date to move\n",
      " |  it two business days forward.  If the date does not start on a\n",
      " |  valid date, first it is moved to a valid date.  Thus psedo code\n",
      " |  is:\n",
      " |  \n",
      " |  def __add__(date):\n",
      " |    date = rollback(date) # does nothing if date is valid\n",
      " |    return date + <n number of periods>\n",
      " |  \n",
      " |  When a date offset is created for a negitive number of periods,\n",
      " |  the date is first rolled forward.  The pseudo code is:\n",
      " |  \n",
      " |  def __add__(date):\n",
      " |    date = rollforward(date) # does nothing is date is valid\n",
      " |    return date + <n number of periods>\n",
      " |  \n",
      " |  Zero presents a problem.  Should it roll forward or back?  We\n",
      " |  arbitrarily have it rollforward:\n",
      " |  \n",
      " |  date + BDay(0) == BDay.rollforward(date)\n",
      " |  \n",
      " |  Since 0 is a bit weird, we suggest avoiding its use.\n",
      " |  \n",
      " |  Methods defined here:\n",
      " |  \n",
      " |  __add__(self, other)\n",
      " |  \n",
      " |  __call__(self, other)\n",
      " |  \n",
      " |  __eq__(self, other)\n",
      " |  \n",
      " |  __hash__(self)\n",
      " |  \n",
      " |  __init__(self, n=1, normalize=False, **kwds)\n",
      " |  \n",
      " |  __mul__(self, someInt)\n",
      " |  \n",
      " |  __ne__(self, other)\n",
      " |  \n",
      " |  __neg__(self)\n",
      " |  \n",
      " |  __radd__(self, other)\n",
      " |  \n",
      " |  __repr__(self)\n",
      " |  \n",
      " |  __rmul__(self, someInt)\n",
      " |  \n",
      " |  __rsub__(self, other)\n",
      " |  \n",
      " |  __sub__(self, other)\n",
      " |  \n",
      " |  apply(self, other)\n",
      " |  \n",
      " |  apply_index(self, other)\n",
      " |      Vectorized apply of DateOffset to DatetimeIndex,\n",
      " |      raises NotImplentedError for offsets without a\n",
      " |      vectorized implementation\n",
      " |      \n",
      " |      .. versionadded:: 0.17.0\n",
      " |      \n",
      " |      Parameters\n",
      " |      ----------\n",
      " |      i : DatetimeIndex\n",
      " |      \n",
      " |      Returns\n",
      " |      -------\n",
      " |      y : DatetimeIndex\n",
      " |  \n",
      " |  copy(self)\n",
      " |  \n",
      " |  isAnchored(self)\n",
      " |  \n",
      " |  onOffset(self, dt)\n",
      " |  \n",
      " |  rollback(self, dt)\n",
      " |      Roll provided date backward to next offset only if not on offset\n",
      " |  \n",
      " |  rollforward(self, dt)\n",
      " |      Roll provided date forward to next offset only if not on offset\n",
      " |  \n",
      " |  ----------------------------------------------------------------------\n",
      " |  Data descriptors defined here:\n",
      " |  \n",
      " |  __dict__\n",
      " |      dictionary for instance variables (if defined)\n",
      " |  \n",
      " |  __weakref__\n",
      " |      list of weak references to the object (if defined)\n",
      " |  \n",
      " |  freqstr\n",
      " |  \n",
      " |  name\n",
      " |  \n",
      " |  nanos\n",
      " |  \n",
      " |  rule_code\n",
      " |  \n",
      " |  ----------------------------------------------------------------------\n",
      " |  Data and other attributes defined here:\n",
      " |  \n",
      " |  normalize = False\n",
      "\n"
     ]
    }
   ],
   "source": [
    "help(pd.tseries.offsets.DateOffset)"
   ]
  }
 ],
 "metadata": {
  "anaconda-cloud": {},
  "kernelspec": {
   "display_name": "Python 2",
   "language": "python",
   "name": "python2"
  },
  "language_info": {
   "codemirror_mode": {
    "name": "ipython",
    "version": 2
   },
   "file_extension": ".py",
   "mimetype": "text/x-python",
   "name": "python",
   "nbconvert_exporter": "python",
   "pygments_lexer": "ipython2",
   "version": "2.7.13"
  }
 },
 "nbformat": 4,
 "nbformat_minor": 1
}
